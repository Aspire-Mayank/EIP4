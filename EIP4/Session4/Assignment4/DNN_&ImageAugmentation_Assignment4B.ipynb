{
  "nbformat": 4,
  "nbformat_minor": 0,
  "metadata": {
    "colab": {
      "name": "DNN_&ImageAugmentation_Assignment4.ipynb",
      "provenance": [],
      "collapsed_sections": [],
      "include_colab_link": true
    },
    "kernelspec": {
      "name": "python3",
      "display_name": "Python 3"
    },
    "accelerator": "GPU"
  },
  "cells": [
    {
      "cell_type": "markdown",
      "metadata": {
        "id": "view-in-github",
        "colab_type": "text"
      },
      "source": [
        "<a href=\"https://colab.research.google.com/github/Aspire-Mayank/EIP4/blob/master/EIP4/Session4/Assignment4/DNN_%26ImageAugmentation_Assignment4B.ipynb\" target=\"_parent\"><img src=\"https://colab.research.google.com/assets/colab-badge.svg\" alt=\"Open In Colab\"/></a>"
      ]
    },
    {
      "cell_type": "markdown",
      "metadata": {
        "id": "lyk6cgrgDo4H",
        "colab_type": "text"
      },
      "source": [
        "##Assignment 4 : Modern DNN Architectures and Image Augmentation\n",
        "\n",
        "####***GradCam Integration with CIFAR10 DataSet on ResNetV2 model***\n",
        "\n",
        "Importing and Installing Keras and related core assualts for using in building Neural Network"
      ]
    },
    {
      "cell_type": "code",
      "metadata": {
        "id": "3roMiwR_oXYO",
        "colab_type": "code",
        "colab": {
          "base_uri": "https://localhost:8080/",
          "height": 80
        },
        "outputId": "a024b6f8-4e6b-4f9e-8fe6-f7259e9eebb7"
      },
      "source": [
        "from __future__ import print_function\n",
        "import keras\n",
        "from keras.layers import Dense, Conv2D, BatchNormalization, Activation\n",
        "from keras.layers import AveragePooling2D, Input, Flatten\n",
        "from keras.optimizers import Adam\n",
        "from keras.callbacks import ModelCheckpoint, LearningRateScheduler\n",
        "from keras.callbacks import ReduceLROnPlateau\n",
        "from keras.preprocessing.image import ImageDataGenerator\n",
        "from keras.regularizers import l2\n",
        "from keras import backend as K\n",
        "from keras.models import Model\n",
        "from keras.datasets import cifar10\n",
        "import numpy as np\n",
        "import os"
      ],
      "execution_count": 1,
      "outputs": [
        {
          "output_type": "stream",
          "text": [
            "Using TensorFlow backend.\n"
          ],
          "name": "stderr"
        },
        {
          "output_type": "display_data",
          "data": {
            "text/html": [
              "<p style=\"color: red;\">\n",
              "The default version of TensorFlow in Colab will soon switch to TensorFlow 2.x.<br>\n",
              "We recommend you <a href=\"https://www.tensorflow.org/guide/migrate\" target=\"_blank\">upgrade</a> now \n",
              "or ensure your notebook will continue to use TensorFlow 1.x via the <code>%tensorflow_version 1.x</code> magic:\n",
              "<a href=\"https://colab.research.google.com/notebooks/tensorflow_version.ipynb\" target=\"_blank\">more info</a>.</p>\n"
            ],
            "text/plain": [
              "<IPython.core.display.HTML object>"
            ]
          },
          "metadata": {
            "tags": []
          }
        }
      ]
    },
    {
      "cell_type": "markdown",
      "metadata": {
        "id": "xy8Fars_ODtR",
        "colab_type": "text"
      },
      "source": [
        "***Trains a ResNet on the CIFAR10 dataset.***"
      ]
    },
    {
      "cell_type": "code",
      "metadata": {
        "id": "5KAkmMx0HfsQ",
        "colab_type": "code",
        "colab": {}
      },
      "source": [
        "# Training parameters\n",
        "batch_size = 128  # orig paper trained all networks with batch_size=128\n",
        "epochs = 50\n",
        "data_augmentation = True\n",
        "num_classes = 10\n",
        "\n",
        "# Subtracting pixel mean improves accuracy\n",
        "subtract_pixel_mean = True\n",
        "\n",
        "# Model parameter\n",
        "# ----------------------------------------------------------------------------\n",
        "#           |      | 200-epoch | Orig Paper| 200-epoch | Orig Paper| sec/epoch\n",
        "# Model     |  n   | ResNet v1 | ResNet v1 | ResNet v2 | ResNet v2 | GTX1080Ti\n",
        "#           |v1(v2)| %Accuracy | %Accuracy | %Accuracy | %Accuracy | v1 (v2)\n",
        "# ----------------------------------------------------------------------------\n",
        "# ResNet20  | 3 (2)| 92.16     | 91.25     | -----     | -----     | 35 (---)\n",
        "# ResNet32  | 5(NA)| 92.46     | 92.49     | NA        | NA        | 50 ( NA)\n",
        "# ResNet44  | 7(NA)| 92.50     | 92.83     | NA        | NA        | 70 ( NA)\n",
        "# ResNet56  | 9 (6)| 92.71     | 93.03     | 93.01     | NA        | 90 (100)\n",
        "# ResNet110 |18(12)| 92.65     | 93.39+-.16| 93.15     | 93.63     | 165(180)\n",
        "# ResNet164 |27(18)| -----     | 94.07     | -----     | 94.54     | ---(---)\n",
        "# ResNet1001| (111)| -----     | 92.39     | -----     | 95.08+-.14| ---(---)\n",
        "# ---------------------------------------------------------------------------\n",
        "n = 3\n",
        "\n",
        "# Model version\n",
        "# Orig paper: version = 1 (ResNet v1), Improved ResNet: version = 2 (ResNet v2)\n",
        "version = 2"
      ],
      "execution_count": 0,
      "outputs": []
    },
    {
      "cell_type": "code",
      "metadata": {
        "id": "SDtQgTDAHsWO",
        "colab_type": "code",
        "colab": {}
      },
      "source": [
        "# Computed depth from supplied model parameter n\n",
        "if version == 1:\n",
        "    depth = n * 6 + 2\n",
        "elif version == 2:\n",
        "    depth = n * 6 + 2\n",
        "\n",
        "# Model name, depth and version\n",
        "model_type = 'ResNet%dv%d' % (depth, version)"
      ],
      "execution_count": 0,
      "outputs": []
    },
    {
      "cell_type": "markdown",
      "metadata": {
        "id": "3H2UblTjOcCq",
        "colab_type": "text"
      },
      "source": [
        "Loading Cifar10 Dataset into training and test Data.\n",
        "\n",
        "Analysis of classes present in Dataset and Plot those 10 classes\n",
        "\n",
        "Final preprocessing step for the input data is to convert our data type to float32 and normalize our data values to the range"
      ]
    },
    {
      "cell_type": "code",
      "metadata": {
        "id": "2qm5bZUJH7OV",
        "colab_type": "code",
        "colab": {
          "base_uri": "https://localhost:8080/",
          "height": 86
        },
        "outputId": "c193b80d-00ca-4a9b-ace9-4a4a56d97221"
      },
      "source": [
        "# Load the CIFAR10 data.\n",
        "(x_train, y_train), (x_test, y_test) = cifar10.load_data()\n",
        "\n",
        "# Input image dimensions.\n",
        "input_shape = x_train.shape[1:]\n",
        "\n",
        "# Normalize data.\n",
        "x_train = x_train.astype('float32') / 255\n",
        "x_test = x_test.astype('float32') / 255\n",
        "\n",
        "# If subtract pixel mean is enabled\n",
        "if subtract_pixel_mean:\n",
        "    x_train_mean = np.mean(x_train, axis=0)\n",
        "    x_train -= x_train_mean\n",
        "    x_test -= x_train_mean\n",
        "\n",
        "print('x_train shape:', x_train.shape)\n",
        "print(x_train.shape[0], 'train samples')\n",
        "print(x_test.shape[0], 'test samples')\n",
        "print('y_train shape:', y_train.shape)\n",
        "\n",
        "# Convert class vectors to binary class matrices.\n",
        "y_train = keras.utils.to_categorical(y_train, num_classes)\n",
        "y_test = keras.utils.to_categorical(y_test, num_classes)"
      ],
      "execution_count": 8,
      "outputs": [
        {
          "output_type": "stream",
          "text": [
            "x_train shape: (50000, 32, 32, 3)\n",
            "50000 train samples\n",
            "10000 test samples\n",
            "y_train shape: (50000, 1)\n"
          ],
          "name": "stdout"
        }
      ]
    },
    {
      "cell_type": "code",
      "metadata": {
        "id": "9NdxEDcpI-aB",
        "colab_type": "code",
        "colab": {}
      },
      "source": [
        "def lr_schedule(epoch):\n",
        "    \"\"\"Learning Rate Schedule\n",
        "\n",
        "    Learning rate is scheduled to be reduced after 15, 25, 35, 45 epochs.\n",
        "    Called automatically every epoch as part of callbacks during training.\n",
        "\n",
        "    # Arguments\n",
        "        epoch (int): The number of epochs\n",
        "\n",
        "    # Returns\n",
        "        lr (float32): learning rate\n",
        "    \"\"\"\n",
        "    lr = 1e-3\n",
        "    if epoch > 45:\n",
        "        lr *= 0.5e-3\n",
        "    elif epoch > 35:\n",
        "        lr *= 1e-3\n",
        "    elif epoch > 25:\n",
        "        lr *= 1e-2\n",
        "    elif epoch > 15:\n",
        "        lr *= 1e-1\n",
        "    print('Learning rate: ', lr)\n",
        "    return lr"
      ],
      "execution_count": 0,
      "outputs": []
    },
    {
      "cell_type": "markdown",
      "metadata": {
        "id": "9yQrpyoIO8yB",
        "colab_type": "text"
      },
      "source": [
        "###***Define ResNet Model.***"
      ]
    },
    {
      "cell_type": "code",
      "metadata": {
        "id": "NXvLnGVSI_ZP",
        "colab_type": "code",
        "colab": {}
      },
      "source": [
        "def resnet_layer(inputs,\n",
        "                 num_filters=16,\n",
        "                 kernel_size=3,\n",
        "                 strides=1,\n",
        "                 activation='relu',\n",
        "                 batch_normalization=True,\n",
        "                 conv_first=True):\n",
        "    \"\"\"2D Convolution-Batch Normalization-Activation stack builder\n",
        "\n",
        "    # Arguments\n",
        "        inputs (tensor): input tensor from input image or previous layer\n",
        "        num_filters (int): Conv2D number of filters\n",
        "        kernel_size (int): Conv2D square kernel dimensions\n",
        "        strides (int): Conv2D square stride dimensions\n",
        "        activation (string): activation name\n",
        "        batch_normalization (bool): whether to include batch normalization\n",
        "        conv_first (bool): conv-bn-activation (True) or\n",
        "            bn-activation-conv (False)\n",
        "\n",
        "    # Returns\n",
        "        x (tensor): tensor as input to the next layer\n",
        "    \"\"\"\n",
        "    conv = Conv2D(num_filters,\n",
        "                  kernel_size=kernel_size,\n",
        "                  strides=strides,\n",
        "                  padding='same',\n",
        "                  kernel_initializer='he_normal',\n",
        "                  kernel_regularizer=l2(1e-4))\n",
        "\n",
        "    x = inputs\n",
        "    if conv_first:\n",
        "        x = conv(x)\n",
        "        if batch_normalization:\n",
        "            x = BatchNormalization()(x)\n",
        "        if activation is not None:\n",
        "            x = Activation(activation)(x)\n",
        "    else:\n",
        "        if batch_normalization:\n",
        "            x = BatchNormalization()(x)\n",
        "        if activation is not None:\n",
        "            x = Activation(activation)(x)\n",
        "        x = conv(x)\n",
        "    return x"
      ],
      "execution_count": 0,
      "outputs": []
    },
    {
      "cell_type": "code",
      "metadata": {
        "id": "baOoC5NjJJqW",
        "colab_type": "code",
        "colab": {}
      },
      "source": [
        "def resnet_v1(input_shape, depth, num_classes=10):\n",
        "    \"\"\"ResNet Version 1 Model builder [a]\n",
        "\n",
        "    Stacks of 2 x (3 x 3) Conv2D-BN-ReLU\n",
        "    Last ReLU is after the shortcut connection.\n",
        "    At the beginning of each stage, the feature map size is halved (downsampled)\n",
        "    by a convolutional layer with strides=2, while the number of filters is\n",
        "    doubled. Within each stage, the layers have the same number filters and the\n",
        "    same number of filters.\n",
        "    Features maps sizes:\n",
        "    stage 0: 32x32, 16\n",
        "    stage 1: 16x16, 32\n",
        "    stage 2:  8x8,  64\n",
        "    The Number of parameters is approx the same as Table 6 of [a]:\n",
        "    ResNet20 0.27M\n",
        "    ResNet32 0.46M\n",
        "    ResNet44 0.66M\n",
        "    ResNet56 0.85M\n",
        "    ResNet110 1.7M\n",
        "\n",
        "    # Arguments\n",
        "        input_shape (tensor): shape of input image tensor\n",
        "        depth (int): number of core convolutional layers\n",
        "        num_classes (int): number of classes (CIFAR10 has 10)\n",
        "\n",
        "    # Returns\n",
        "        model (Model): Keras model instance\n",
        "    \"\"\"\n",
        "    if (depth - 2) % 6 != 0:\n",
        "        raise ValueError('depth should be 6n+2 (eg 20, 32, 44 in [a])')\n",
        "    # Start model definition.\n",
        "    num_filters = 16\n",
        "    num_res_blocks = int((depth - 2) / 6)\n",
        "\n",
        "    inputs = Input(shape=input_shape)\n",
        "    x = resnet_layer(inputs=inputs)\n",
        "    # Instantiate the stack of residual units\n",
        "    for stack in range(3):\n",
        "        for res_block in range(num_res_blocks):\n",
        "            strides = 1\n",
        "            if stack > 0 and res_block == 0:  # first layer but not first stack\n",
        "                strides = 2  # downsample\n",
        "            y = resnet_layer(inputs=x,\n",
        "                             num_filters=num_filters,\n",
        "                             strides=strides)\n",
        "            y = resnet_layer(inputs=y,\n",
        "                             num_filters=num_filters,\n",
        "                             activation=None)\n",
        "            if stack > 0 and res_block == 0:  # first layer but not first stack\n",
        "                # linear projection residual shortcut connection to match\n",
        "                # changed dims\n",
        "                x = resnet_layer(inputs=x,\n",
        "                                 num_filters=num_filters,\n",
        "                                 kernel_size=1,\n",
        "                                 strides=strides,\n",
        "                                 activation=None,\n",
        "                                 batch_normalization=False)\n",
        "            x = keras.layers.add([x, y])\n",
        "            x = Activation('relu')(x)\n",
        "        num_filters *= 2\n",
        "\n",
        "    # Add classifier on top.\n",
        "    # v1 does not use BN after last shortcut connection-ReLU\n",
        "    x = AveragePooling2D(pool_size=8)(x)\n",
        "    y = Flatten()(x)\n",
        "    outputs = Dense(num_classes,\n",
        "                    activation='softmax',\n",
        "                    kernel_initializer='he_normal')(y)\n",
        "\n",
        "    # Instantiate model.\n",
        "    model = Model(inputs=inputs, outputs=outputs)\n",
        "    return model"
      ],
      "execution_count": 0,
      "outputs": []
    },
    {
      "cell_type": "code",
      "metadata": {
        "id": "vJMW2Kt4JOW-",
        "colab_type": "code",
        "colab": {}
      },
      "source": [
        "def resnet_v2(input_shape, depth, num_classes=10):\n",
        "    \"\"\"ResNet Version 2 Model builder [b]\n",
        "\n",
        "    Stacks of (1 x 1)-(3 x 3)-(1 x 1) BN-ReLU-Conv2D or also known as\n",
        "    bottleneck layer\n",
        "    First shortcut connection per layer is 1 x 1 Conv2D.\n",
        "    Second and onwards shortcut connection is identity.\n",
        "    At the beginning of each stage, the feature map size is halved (downsampled)\n",
        "    by a convolutional layer with strides=2, while the number of filter maps is\n",
        "    doubled. Within each stage, the layers have the same number filters and the\n",
        "    same filter map sizes.\n",
        "    Features maps sizes:\n",
        "    conv1  : 32x32,  16\n",
        "    stage 0: 32x32,  64\n",
        "    stage 1: 16x16, 128\n",
        "    stage 2:  8x8,  256\n",
        "\n",
        "    # Arguments\n",
        "        input_shape (tensor): shape of input image tensor\n",
        "        depth (int): number of core convolutional layers\n",
        "        num_classes (int): number of classes (CIFAR10 has 10)\n",
        "\n",
        "    # Returns\n",
        "        model (Model): Keras model instance\n",
        "    \"\"\"\n",
        "    if (depth - 2) % 9 != 0:\n",
        "        raise ValueError('depth should be 9n+2 (eg 56 or 110 in [b])')\n",
        "    # Start model definition.\n",
        "    num_filters_in = 16\n",
        "    num_res_blocks = int((depth - 2) / 9)\n",
        "\n",
        "    inputs = Input(shape=input_shape)\n",
        "    # v2 performs Conv2D with BN-ReLU on input before splitting into 2 paths\n",
        "    x = resnet_layer(inputs=inputs,\n",
        "                     num_filters=num_filters_in,\n",
        "                     conv_first=True)\n",
        "\n",
        "    # Instantiate the stack of residual units\n",
        "    for stage in range(3):\n",
        "        for res_block in range(num_res_blocks):\n",
        "            activation = 'relu'\n",
        "            batch_normalization = True\n",
        "            strides = 1\n",
        "            if stage == 0:\n",
        "                num_filters_out = num_filters_in * 4\n",
        "                if res_block == 0:  # first layer and first stage\n",
        "                    activation = None\n",
        "                    batch_normalization = False\n",
        "            else:\n",
        "                num_filters_out = num_filters_in * 2\n",
        "                if res_block == 0:  # first layer but not first stage\n",
        "                    strides = 2    # downsample\n",
        "\n",
        "            # bottleneck residual unit\n",
        "            y = resnet_layer(inputs=x,\n",
        "                             num_filters=num_filters_in,\n",
        "                             kernel_size=1,\n",
        "                             strides=strides,\n",
        "                             activation=activation,\n",
        "                             batch_normalization=batch_normalization,\n",
        "                             conv_first=False)\n",
        "            y = resnet_layer(inputs=y,\n",
        "                             num_filters=num_filters_in,\n",
        "                             conv_first=False)\n",
        "            y = resnet_layer(inputs=y,\n",
        "                             num_filters=num_filters_out,\n",
        "                             kernel_size=1,\n",
        "                             conv_first=False)\n",
        "            if res_block == 0:\n",
        "                # linear projection residual shortcut connection to match\n",
        "                # changed dims\n",
        "                x = resnet_layer(inputs=x,\n",
        "                                 num_filters=num_filters_out,\n",
        "                                 kernel_size=1,\n",
        "                                 strides=strides,\n",
        "                                 activation=None,\n",
        "                                 batch_normalization=False)\n",
        "            x = keras.layers.add([x, y])\n",
        "\n",
        "        num_filters_in = num_filters_out\n",
        "\n",
        "    # Add classifier on top.\n",
        "    # v2 has BN-ReLU before Pooling\n",
        "    x = BatchNormalization()(x)\n",
        "    x = Activation('relu')(x)\n",
        "    x = AveragePooling2D(pool_size=8)(x)\n",
        "    y = Flatten()(x)\n",
        "    outputs = Dense(num_classes,\n",
        "                    activation='softmax',\n",
        "                    kernel_initializer='he_normal')(y)\n",
        "\n",
        "    # Instantiate model.\n",
        "    model = Model(inputs=inputs, outputs=outputs)\n",
        "    return model"
      ],
      "execution_count": 0,
      "outputs": []
    },
    {
      "cell_type": "markdown",
      "metadata": {
        "id": "rTHY7VbQPNaA",
        "colab_type": "text"
      },
      "source": [
        "####Compile the Model:\n",
        "> 1. While compile the model we need to declare Loss Function and Optimizer\n",
        "\n",
        "> 2. Here we used Adam and categorical cross entropy as optimizer and loss function respectively"
      ]
    },
    {
      "cell_type": "code",
      "metadata": {
        "id": "Iyd76HXRKUtI",
        "colab_type": "code",
        "colab": {
          "base_uri": "https://localhost:8080/",
          "height": 1000
        },
        "outputId": "a2bca451-d8cd-4d10-80ab-223273782534"
      },
      "source": [
        "if version == 2:\n",
        "    model = resnet_v2(input_shape=input_shape, depth=depth)\n",
        "else:\n",
        "    model = resnet_v1(input_shape=input_shape, depth=depth)\n",
        "\n",
        "#model.compile(loss='categorical_crossentropy', optimizer=Adam(learning_rate=lr_schedule(0)),   metrics=['accuracy'])\n",
        "\n",
        "# Compile the model\n",
        "model.compile(optimizer='adam', loss='categorical_crossentropy', metrics=['accuracy'])\n",
        "model.summary()\n",
        "print(model_type)"
      ],
      "execution_count": 12,
      "outputs": [
        {
          "output_type": "stream",
          "text": [
            "WARNING:tensorflow:From /usr/local/lib/python3.6/dist-packages/keras/backend/tensorflow_backend.py:66: The name tf.get_default_graph is deprecated. Please use tf.compat.v1.get_default_graph instead.\n",
            "\n",
            "WARNING:tensorflow:From /usr/local/lib/python3.6/dist-packages/keras/backend/tensorflow_backend.py:541: The name tf.placeholder is deprecated. Please use tf.compat.v1.placeholder instead.\n",
            "\n",
            "WARNING:tensorflow:From /usr/local/lib/python3.6/dist-packages/keras/backend/tensorflow_backend.py:4479: The name tf.truncated_normal is deprecated. Please use tf.random.truncated_normal instead.\n",
            "\n",
            "WARNING:tensorflow:From /usr/local/lib/python3.6/dist-packages/keras/backend/tensorflow_backend.py:190: The name tf.get_default_session is deprecated. Please use tf.compat.v1.get_default_session instead.\n",
            "\n",
            "WARNING:tensorflow:From /usr/local/lib/python3.6/dist-packages/keras/backend/tensorflow_backend.py:197: The name tf.ConfigProto is deprecated. Please use tf.compat.v1.ConfigProto instead.\n",
            "\n",
            "WARNING:tensorflow:From /usr/local/lib/python3.6/dist-packages/keras/backend/tensorflow_backend.py:203: The name tf.Session is deprecated. Please use tf.compat.v1.Session instead.\n",
            "\n",
            "WARNING:tensorflow:From /usr/local/lib/python3.6/dist-packages/keras/backend/tensorflow_backend.py:207: The name tf.global_variables is deprecated. Please use tf.compat.v1.global_variables instead.\n",
            "\n",
            "WARNING:tensorflow:From /usr/local/lib/python3.6/dist-packages/keras/backend/tensorflow_backend.py:216: The name tf.is_variable_initialized is deprecated. Please use tf.compat.v1.is_variable_initialized instead.\n",
            "\n",
            "WARNING:tensorflow:From /usr/local/lib/python3.6/dist-packages/keras/backend/tensorflow_backend.py:223: The name tf.variables_initializer is deprecated. Please use tf.compat.v1.variables_initializer instead.\n",
            "\n",
            "WARNING:tensorflow:From /usr/local/lib/python3.6/dist-packages/keras/backend/tensorflow_backend.py:2041: The name tf.nn.fused_batch_norm is deprecated. Please use tf.compat.v1.nn.fused_batch_norm instead.\n",
            "\n",
            "WARNING:tensorflow:From /usr/local/lib/python3.6/dist-packages/keras/backend/tensorflow_backend.py:148: The name tf.placeholder_with_default is deprecated. Please use tf.compat.v1.placeholder_with_default instead.\n",
            "\n",
            "WARNING:tensorflow:From /usr/local/lib/python3.6/dist-packages/keras/backend/tensorflow_backend.py:4271: The name tf.nn.avg_pool is deprecated. Please use tf.nn.avg_pool2d instead.\n",
            "\n",
            "WARNING:tensorflow:From /usr/local/lib/python3.6/dist-packages/keras/optimizers.py:793: The name tf.train.Optimizer is deprecated. Please use tf.compat.v1.train.Optimizer instead.\n",
            "\n",
            "WARNING:tensorflow:From /usr/local/lib/python3.6/dist-packages/keras/backend/tensorflow_backend.py:3576: The name tf.log is deprecated. Please use tf.math.log instead.\n",
            "\n",
            "Model: \"model_1\"\n",
            "__________________________________________________________________________________________________\n",
            "Layer (type)                    Output Shape         Param #     Connected to                     \n",
            "==================================================================================================\n",
            "input_1 (InputLayer)            (None, 32, 32, 3)    0                                            \n",
            "__________________________________________________________________________________________________\n",
            "conv2d_1 (Conv2D)               (None, 32, 32, 16)   448         input_1[0][0]                    \n",
            "__________________________________________________________________________________________________\n",
            "batch_normalization_1 (BatchNor (None, 32, 32, 16)   64          conv2d_1[0][0]                   \n",
            "__________________________________________________________________________________________________\n",
            "activation_1 (Activation)       (None, 32, 32, 16)   0           batch_normalization_1[0][0]      \n",
            "__________________________________________________________________________________________________\n",
            "conv2d_2 (Conv2D)               (None, 32, 32, 16)   272         activation_1[0][0]               \n",
            "__________________________________________________________________________________________________\n",
            "batch_normalization_2 (BatchNor (None, 32, 32, 16)   64          conv2d_2[0][0]                   \n",
            "__________________________________________________________________________________________________\n",
            "activation_2 (Activation)       (None, 32, 32, 16)   0           batch_normalization_2[0][0]      \n",
            "__________________________________________________________________________________________________\n",
            "conv2d_3 (Conv2D)               (None, 32, 32, 16)   2320        activation_2[0][0]               \n",
            "__________________________________________________________________________________________________\n",
            "batch_normalization_3 (BatchNor (None, 32, 32, 16)   64          conv2d_3[0][0]                   \n",
            "__________________________________________________________________________________________________\n",
            "activation_3 (Activation)       (None, 32, 32, 16)   0           batch_normalization_3[0][0]      \n",
            "__________________________________________________________________________________________________\n",
            "conv2d_5 (Conv2D)               (None, 32, 32, 64)   1088        activation_1[0][0]               \n",
            "__________________________________________________________________________________________________\n",
            "conv2d_4 (Conv2D)               (None, 32, 32, 64)   1088        activation_3[0][0]               \n",
            "__________________________________________________________________________________________________\n",
            "add_1 (Add)                     (None, 32, 32, 64)   0           conv2d_5[0][0]                   \n",
            "                                                                 conv2d_4[0][0]                   \n",
            "__________________________________________________________________________________________________\n",
            "batch_normalization_4 (BatchNor (None, 32, 32, 64)   256         add_1[0][0]                      \n",
            "__________________________________________________________________________________________________\n",
            "activation_4 (Activation)       (None, 32, 32, 64)   0           batch_normalization_4[0][0]      \n",
            "__________________________________________________________________________________________________\n",
            "conv2d_6 (Conv2D)               (None, 32, 32, 16)   1040        activation_4[0][0]               \n",
            "__________________________________________________________________________________________________\n",
            "batch_normalization_5 (BatchNor (None, 32, 32, 16)   64          conv2d_6[0][0]                   \n",
            "__________________________________________________________________________________________________\n",
            "activation_5 (Activation)       (None, 32, 32, 16)   0           batch_normalization_5[0][0]      \n",
            "__________________________________________________________________________________________________\n",
            "conv2d_7 (Conv2D)               (None, 32, 32, 16)   2320        activation_5[0][0]               \n",
            "__________________________________________________________________________________________________\n",
            "batch_normalization_6 (BatchNor (None, 32, 32, 16)   64          conv2d_7[0][0]                   \n",
            "__________________________________________________________________________________________________\n",
            "activation_6 (Activation)       (None, 32, 32, 16)   0           batch_normalization_6[0][0]      \n",
            "__________________________________________________________________________________________________\n",
            "conv2d_8 (Conv2D)               (None, 32, 32, 64)   1088        activation_6[0][0]               \n",
            "__________________________________________________________________________________________________\n",
            "add_2 (Add)                     (None, 32, 32, 64)   0           add_1[0][0]                      \n",
            "                                                                 conv2d_8[0][0]                   \n",
            "__________________________________________________________________________________________________\n",
            "batch_normalization_7 (BatchNor (None, 32, 32, 64)   256         add_2[0][0]                      \n",
            "__________________________________________________________________________________________________\n",
            "activation_7 (Activation)       (None, 32, 32, 64)   0           batch_normalization_7[0][0]      \n",
            "__________________________________________________________________________________________________\n",
            "conv2d_9 (Conv2D)               (None, 16, 16, 64)   4160        activation_7[0][0]               \n",
            "__________________________________________________________________________________________________\n",
            "batch_normalization_8 (BatchNor (None, 16, 16, 64)   256         conv2d_9[0][0]                   \n",
            "__________________________________________________________________________________________________\n",
            "activation_8 (Activation)       (None, 16, 16, 64)   0           batch_normalization_8[0][0]      \n",
            "__________________________________________________________________________________________________\n",
            "conv2d_10 (Conv2D)              (None, 16, 16, 64)   36928       activation_8[0][0]               \n",
            "__________________________________________________________________________________________________\n",
            "batch_normalization_9 (BatchNor (None, 16, 16, 64)   256         conv2d_10[0][0]                  \n",
            "__________________________________________________________________________________________________\n",
            "activation_9 (Activation)       (None, 16, 16, 64)   0           batch_normalization_9[0][0]      \n",
            "__________________________________________________________________________________________________\n",
            "conv2d_12 (Conv2D)              (None, 16, 16, 128)  8320        add_2[0][0]                      \n",
            "__________________________________________________________________________________________________\n",
            "conv2d_11 (Conv2D)              (None, 16, 16, 128)  8320        activation_9[0][0]               \n",
            "__________________________________________________________________________________________________\n",
            "add_3 (Add)                     (None, 16, 16, 128)  0           conv2d_12[0][0]                  \n",
            "                                                                 conv2d_11[0][0]                  \n",
            "__________________________________________________________________________________________________\n",
            "batch_normalization_10 (BatchNo (None, 16, 16, 128)  512         add_3[0][0]                      \n",
            "__________________________________________________________________________________________________\n",
            "activation_10 (Activation)      (None, 16, 16, 128)  0           batch_normalization_10[0][0]     \n",
            "__________________________________________________________________________________________________\n",
            "conv2d_13 (Conv2D)              (None, 16, 16, 64)   8256        activation_10[0][0]              \n",
            "__________________________________________________________________________________________________\n",
            "batch_normalization_11 (BatchNo (None, 16, 16, 64)   256         conv2d_13[0][0]                  \n",
            "__________________________________________________________________________________________________\n",
            "activation_11 (Activation)      (None, 16, 16, 64)   0           batch_normalization_11[0][0]     \n",
            "__________________________________________________________________________________________________\n",
            "conv2d_14 (Conv2D)              (None, 16, 16, 64)   36928       activation_11[0][0]              \n",
            "__________________________________________________________________________________________________\n",
            "batch_normalization_12 (BatchNo (None, 16, 16, 64)   256         conv2d_14[0][0]                  \n",
            "__________________________________________________________________________________________________\n",
            "activation_12 (Activation)      (None, 16, 16, 64)   0           batch_normalization_12[0][0]     \n",
            "__________________________________________________________________________________________________\n",
            "conv2d_15 (Conv2D)              (None, 16, 16, 128)  8320        activation_12[0][0]              \n",
            "__________________________________________________________________________________________________\n",
            "add_4 (Add)                     (None, 16, 16, 128)  0           add_3[0][0]                      \n",
            "                                                                 conv2d_15[0][0]                  \n",
            "__________________________________________________________________________________________________\n",
            "batch_normalization_13 (BatchNo (None, 16, 16, 128)  512         add_4[0][0]                      \n",
            "__________________________________________________________________________________________________\n",
            "activation_13 (Activation)      (None, 16, 16, 128)  0           batch_normalization_13[0][0]     \n",
            "__________________________________________________________________________________________________\n",
            "conv2d_16 (Conv2D)              (None, 8, 8, 128)    16512       activation_13[0][0]              \n",
            "__________________________________________________________________________________________________\n",
            "batch_normalization_14 (BatchNo (None, 8, 8, 128)    512         conv2d_16[0][0]                  \n",
            "__________________________________________________________________________________________________\n",
            "activation_14 (Activation)      (None, 8, 8, 128)    0           batch_normalization_14[0][0]     \n",
            "__________________________________________________________________________________________________\n",
            "conv2d_17 (Conv2D)              (None, 8, 8, 128)    147584      activation_14[0][0]              \n",
            "__________________________________________________________________________________________________\n",
            "batch_normalization_15 (BatchNo (None, 8, 8, 128)    512         conv2d_17[0][0]                  \n",
            "__________________________________________________________________________________________________\n",
            "activation_15 (Activation)      (None, 8, 8, 128)    0           batch_normalization_15[0][0]     \n",
            "__________________________________________________________________________________________________\n",
            "conv2d_19 (Conv2D)              (None, 8, 8, 256)    33024       add_4[0][0]                      \n",
            "__________________________________________________________________________________________________\n",
            "conv2d_18 (Conv2D)              (None, 8, 8, 256)    33024       activation_15[0][0]              \n",
            "__________________________________________________________________________________________________\n",
            "add_5 (Add)                     (None, 8, 8, 256)    0           conv2d_19[0][0]                  \n",
            "                                                                 conv2d_18[0][0]                  \n",
            "__________________________________________________________________________________________________\n",
            "batch_normalization_16 (BatchNo (None, 8, 8, 256)    1024        add_5[0][0]                      \n",
            "__________________________________________________________________________________________________\n",
            "activation_16 (Activation)      (None, 8, 8, 256)    0           batch_normalization_16[0][0]     \n",
            "__________________________________________________________________________________________________\n",
            "conv2d_20 (Conv2D)              (None, 8, 8, 128)    32896       activation_16[0][0]              \n",
            "__________________________________________________________________________________________________\n",
            "batch_normalization_17 (BatchNo (None, 8, 8, 128)    512         conv2d_20[0][0]                  \n",
            "__________________________________________________________________________________________________\n",
            "activation_17 (Activation)      (None, 8, 8, 128)    0           batch_normalization_17[0][0]     \n",
            "__________________________________________________________________________________________________\n",
            "conv2d_21 (Conv2D)              (None, 8, 8, 128)    147584      activation_17[0][0]              \n",
            "__________________________________________________________________________________________________\n",
            "batch_normalization_18 (BatchNo (None, 8, 8, 128)    512         conv2d_21[0][0]                  \n",
            "__________________________________________________________________________________________________\n",
            "activation_18 (Activation)      (None, 8, 8, 128)    0           batch_normalization_18[0][0]     \n",
            "__________________________________________________________________________________________________\n",
            "conv2d_22 (Conv2D)              (None, 8, 8, 256)    33024       activation_18[0][0]              \n",
            "__________________________________________________________________________________________________\n",
            "add_6 (Add)                     (None, 8, 8, 256)    0           add_5[0][0]                      \n",
            "                                                                 conv2d_22[0][0]                  \n",
            "__________________________________________________________________________________________________\n",
            "batch_normalization_19 (BatchNo (None, 8, 8, 256)    1024        add_6[0][0]                      \n",
            "__________________________________________________________________________________________________\n",
            "activation_19 (Activation)      (None, 8, 8, 256)    0           batch_normalization_19[0][0]     \n",
            "__________________________________________________________________________________________________\n",
            "average_pooling2d_1 (AveragePoo (None, 1, 1, 256)    0           activation_19[0][0]              \n",
            "__________________________________________________________________________________________________\n",
            "flatten_1 (Flatten)             (None, 256)          0           average_pooling2d_1[0][0]        \n",
            "__________________________________________________________________________________________________\n",
            "dense_1 (Dense)                 (None, 10)           2570        flatten_1[0][0]                  \n",
            "==================================================================================================\n",
            "Total params: 574,090\n",
            "Trainable params: 570,602\n",
            "Non-trainable params: 3,488\n",
            "__________________________________________________________________________________________________\n",
            "ResNet20v2\n"
          ],
          "name": "stdout"
        }
      ]
    },
    {
      "cell_type": "markdown",
      "metadata": {
        "id": "Ck_1mRMMPqES",
        "colab_type": "text"
      },
      "source": [
        "### Save best Model to GDrive."
      ]
    },
    {
      "cell_type": "code",
      "metadata": {
        "id": "eFdLjQlRzyfE",
        "colab_type": "code",
        "colab": {
          "base_uri": "https://localhost:8080/",
          "height": 124
        },
        "outputId": "9313b861-5a4f-4ebe-bad9-cd80633b22da"
      },
      "source": [
        "from google.colab import drive\n",
        "drive.mount('/content/drive')"
      ],
      "execution_count": 13,
      "outputs": [
        {
          "output_type": "stream",
          "text": [
            "Go to this URL in a browser: https://accounts.google.com/o/oauth2/auth?client_id=947318989803-6bn6qk8qdgf4n4g3pfee6491hc0brc4i.apps.googleusercontent.com&redirect_uri=urn%3aietf%3awg%3aoauth%3a2.0%3aoob&response_type=code&scope=email%20https%3a%2f%2fwww.googleapis.com%2fauth%2fdocs.test%20https%3a%2f%2fwww.googleapis.com%2fauth%2fdrive%20https%3a%2f%2fwww.googleapis.com%2fauth%2fdrive.photos.readonly%20https%3a%2f%2fwww.googleapis.com%2fauth%2fpeopleapi.readonly\n",
            "\n",
            "Enter your authorization code:\n",
            "··········\n",
            "Mounted at /content/drive\n"
          ],
          "name": "stdout"
        }
      ]
    },
    {
      "cell_type": "code",
      "metadata": {
        "id": "QCixdIKLKcbY",
        "colab_type": "code",
        "colab": {}
      },
      "source": [
        "# Prepare model model saving directory.\n",
        "save_dir = os.path.join(os.getcwd(), 'saved_models_Ass4')\n",
        "model_name = 'cifar10_model_Ass_4B.hdf5'\n",
        "if not os.path.isdir(save_dir):\n",
        "    os.makedirs(save_dir)\n",
        "filepath = os.path.join(save_dir, model_name)\n",
        "\n",
        "# Prepare callbacks for model saving and for learning rate adjustment.\n",
        "checkpoint = ModelCheckpoint(filepath=filepath,\n",
        "                             monitor='val_acc',\n",
        "                             verbose=1,\n",
        "                             save_best_only=True)\n",
        "\n",
        "lr_scheduler = LearningRateScheduler(lr_schedule)\n",
        "\n",
        "lr_reducer = ReduceLROnPlateau(factor=np.sqrt(0.1),\n",
        "                               cooldown=0,\n",
        "                               patience=5,\n",
        "                               min_lr=0.5e-6)\n",
        "\n",
        "callbacks = [checkpoint, lr_reducer, lr_scheduler]"
      ],
      "execution_count": 0,
      "outputs": []
    },
    {
      "cell_type": "markdown",
      "metadata": {
        "id": "hcxgY8w5QmZq",
        "colab_type": "text"
      },
      "source": [
        "\n",
        "###Perform below steps to Train Model:\n",
        ">1. Image Agumentation.\n",
        ">2. Saving Best only Model with checking in every Epochs.\n",
        ">3. Fit_generator to Train model incorporate with Best only model to save and Image data Generator."
      ]
    },
    {
      "cell_type": "code",
      "metadata": {
        "id": "537nH81HKdcY",
        "colab_type": "code",
        "colab": {
          "base_uri": "https://localhost:8080/",
          "height": 1000
        },
        "outputId": "761b397d-a889-4afd-ebe7-740cf0211888"
      },
      "source": [
        "# Run training, with or without data augmentation.\n",
        "if not data_augmentation:\n",
        "    print('Not using data augmentation.')\n",
        "    model.fit(x_train, y_train,\n",
        "              batch_size=batch_size,\n",
        "              epochs=epochs,\n",
        "              validation_data=(x_test, y_test),\n",
        "              shuffle=True,\n",
        "              callbacks=callbacks)\n",
        "else:\n",
        "    print('Using real-time data augmentation.')\n",
        "    # This will do preprocessing and realtime data augmentation:\n",
        "    datagen = ImageDataGenerator(\n",
        "        # set input mean to 0 over the dataset\n",
        "        featurewise_center=False,\n",
        "        # set each sample mean to 0\n",
        "        samplewise_center=False,\n",
        "        # divide inputs by std of dataset\n",
        "        featurewise_std_normalization=False,\n",
        "        # divide each input by its std\n",
        "        samplewise_std_normalization=False,\n",
        "        # apply ZCA whitening\n",
        "        zca_whitening=False,\n",
        "        # epsilon for ZCA whitening\n",
        "        zca_epsilon=1e-06,\n",
        "        # randomly rotate images in the range (deg 0 to 180)\n",
        "        rotation_range=0,\n",
        "        # randomly shift images horizontally\n",
        "        width_shift_range=0.1,\n",
        "        # randomly shift images vertically\n",
        "        height_shift_range=0.1,\n",
        "        # set range for random shear\n",
        "        shear_range=0.,\n",
        "        # set range for random zoom\n",
        "        zoom_range=0.,\n",
        "        # set range for random channel shifts\n",
        "        channel_shift_range=0.,\n",
        "        # set mode for filling points outside the input boundaries\n",
        "        fill_mode='nearest',\n",
        "        # value used for fill_mode = \"constant\"\n",
        "        cval=0.,\n",
        "        # randomly flip images\n",
        "        horizontal_flip=True,\n",
        "        # randomly flip images\n",
        "        vertical_flip=False,\n",
        "        # set rescaling factor (applied before any other transformation)\n",
        "        rescale=None,\n",
        "        # set function that will be applied on each input\n",
        "        preprocessing_function=None,\n",
        "        # image data format, either \"channels_first\" or \"channels_last\"\n",
        "        data_format=None,\n",
        "        # fraction of images reserved for validation (strictly between 0 and 1)\n",
        "        validation_split=0.0)\n",
        "\n",
        "    # Compute quantities required for featurewise normalization\n",
        "    # (std, mean, and principal components if ZCA whitening is applied).\n",
        "    datagen.fit(x_train)\n",
        "\n",
        "    # Fit the model on the batches generated by datagen.flow().\n",
        "    model.fit_generator(datagen.flow(x_train, y_train, batch_size=batch_size),\n",
        "                        validation_data=(x_test, y_test),\n",
        "                        epochs=epochs, verbose=1, workers=4,\n",
        "                        callbacks=callbacks)"
      ],
      "execution_count": 15,
      "outputs": [
        {
          "output_type": "stream",
          "text": [
            "Using real-time data augmentation.\n",
            "WARNING:tensorflow:From /usr/local/lib/python3.6/dist-packages/tensorflow_core/python/ops/math_grad.py:1424: where (from tensorflow.python.ops.array_ops) is deprecated and will be removed in a future version.\n",
            "Instructions for updating:\n",
            "Use tf.where in 2.0, which has the same broadcast rule as np.where\n",
            "WARNING:tensorflow:From /usr/local/lib/python3.6/dist-packages/keras/backend/tensorflow_backend.py:1033: The name tf.assign_add is deprecated. Please use tf.compat.v1.assign_add instead.\n",
            "\n",
            "WARNING:tensorflow:From /usr/local/lib/python3.6/dist-packages/keras/backend/tensorflow_backend.py:1020: The name tf.assign is deprecated. Please use tf.compat.v1.assign instead.\n",
            "\n",
            "Epoch 1/50\n",
            "Learning rate:  0.001\n",
            "391/391 [==============================] - 41s 105ms/step - loss: 1.8517 - acc: 0.4684 - val_loss: 1.7165 - val_acc: 0.5120\n",
            "\n",
            "Epoch 00001: val_acc improved from -inf to 0.51200, saving model to /content/saved_models_Ass4/cifar10_model_Ass_4B.hdf5\n",
            "Epoch 2/50\n",
            "Learning rate:  0.001\n",
            "391/391 [==============================] - 31s 79ms/step - loss: 1.4410 - acc: 0.6015 - val_loss: 1.4097 - val_acc: 0.6150\n",
            "\n",
            "Epoch 00002: val_acc improved from 0.51200 to 0.61500, saving model to /content/saved_models_Ass4/cifar10_model_Ass_4B.hdf5\n",
            "Epoch 3/50\n",
            "Learning rate:  0.001\n",
            "391/391 [==============================] - 31s 79ms/step - loss: 1.2597 - acc: 0.6585 - val_loss: 1.4036 - val_acc: 0.6221\n",
            "\n",
            "Epoch 00003: val_acc improved from 0.61500 to 0.62210, saving model to /content/saved_models_Ass4/cifar10_model_Ass_4B.hdf5\n",
            "Epoch 4/50\n",
            "Learning rate:  0.001\n",
            "391/391 [==============================] - 31s 79ms/step - loss: 1.1393 - acc: 0.6975 - val_loss: 1.4518 - val_acc: 0.5909\n",
            "\n",
            "Epoch 00004: val_acc did not improve from 0.62210\n",
            "Epoch 5/50\n",
            "Learning rate:  0.001\n",
            "391/391 [==============================] - 31s 79ms/step - loss: 1.0463 - acc: 0.7276 - val_loss: 1.4075 - val_acc: 0.6352\n",
            "\n",
            "Epoch 00005: val_acc improved from 0.62210 to 0.63520, saving model to /content/saved_models_Ass4/cifar10_model_Ass_4B.hdf5\n",
            "Epoch 6/50\n",
            "Learning rate:  0.001\n",
            "391/391 [==============================] - 31s 79ms/step - loss: 0.9675 - acc: 0.7527 - val_loss: 1.2484 - val_acc: 0.6760\n",
            "\n",
            "Epoch 00006: val_acc improved from 0.63520 to 0.67600, saving model to /content/saved_models_Ass4/cifar10_model_Ass_4B.hdf5\n",
            "Epoch 7/50\n",
            "Learning rate:  0.001\n",
            "391/391 [==============================] - 31s 78ms/step - loss: 0.9143 - acc: 0.7688 - val_loss: 1.6633 - val_acc: 0.5962\n",
            "\n",
            "Epoch 00007: val_acc did not improve from 0.67600\n",
            "Epoch 8/50\n",
            "Learning rate:  0.001\n",
            "391/391 [==============================] - 31s 79ms/step - loss: 0.8630 - acc: 0.7833 - val_loss: 1.2710 - val_acc: 0.6633\n",
            "\n",
            "Epoch 00008: val_acc did not improve from 0.67600\n",
            "Epoch 9/50\n",
            "Learning rate:  0.001\n",
            "391/391 [==============================] - 31s 80ms/step - loss: 0.8307 - acc: 0.7945 - val_loss: 1.1034 - val_acc: 0.7238\n",
            "\n",
            "Epoch 00009: val_acc improved from 0.67600 to 0.72380, saving model to /content/saved_models_Ass4/cifar10_model_Ass_4B.hdf5\n",
            "Epoch 10/50\n",
            "Learning rate:  0.001\n",
            "391/391 [==============================] - 31s 79ms/step - loss: 0.7986 - acc: 0.8046 - val_loss: 1.0149 - val_acc: 0.7302\n",
            "\n",
            "Epoch 00010: val_acc improved from 0.72380 to 0.73020, saving model to /content/saved_models_Ass4/cifar10_model_Ass_4B.hdf5\n",
            "Epoch 11/50\n",
            "Learning rate:  0.001\n",
            "391/391 [==============================] - 31s 80ms/step - loss: 0.7719 - acc: 0.8117 - val_loss: 1.1222 - val_acc: 0.7099\n",
            "\n",
            "Epoch 00011: val_acc did not improve from 0.73020\n",
            "Epoch 12/50\n",
            "Learning rate:  0.001\n",
            "391/391 [==============================] - 31s 80ms/step - loss: 0.7493 - acc: 0.8195 - val_loss: 0.9109 - val_acc: 0.7770\n",
            "\n",
            "Epoch 00012: val_acc improved from 0.73020 to 0.77700, saving model to /content/saved_models_Ass4/cifar10_model_Ass_4B.hdf5\n",
            "Epoch 13/50\n",
            "Learning rate:  0.001\n",
            "391/391 [==============================] - 31s 80ms/step - loss: 0.7274 - acc: 0.8253 - val_loss: 1.0002 - val_acc: 0.7437\n",
            "\n",
            "Epoch 00013: val_acc did not improve from 0.77700\n",
            "Epoch 14/50\n",
            "Learning rate:  0.001\n",
            "391/391 [==============================] - 31s 79ms/step - loss: 0.7059 - acc: 0.8318 - val_loss: 0.9009 - val_acc: 0.7695\n",
            "\n",
            "Epoch 00014: val_acc did not improve from 0.77700\n",
            "Epoch 15/50\n",
            "Learning rate:  0.001\n",
            "391/391 [==============================] - 31s 79ms/step - loss: 0.6867 - acc: 0.8387 - val_loss: 1.1139 - val_acc: 0.7228\n",
            "\n",
            "Epoch 00015: val_acc did not improve from 0.77700\n",
            "Epoch 16/50\n",
            "Learning rate:  0.001\n",
            "391/391 [==============================] - 31s 79ms/step - loss: 0.6748 - acc: 0.8416 - val_loss: 0.8003 - val_acc: 0.8032\n",
            "\n",
            "Epoch 00016: val_acc improved from 0.77700 to 0.80320, saving model to /content/saved_models_Ass4/cifar10_model_Ass_4B.hdf5\n",
            "Epoch 17/50\n",
            "Learning rate:  0.0001\n",
            "391/391 [==============================] - 31s 79ms/step - loss: 0.5759 - acc: 0.8779 - val_loss: 0.6464 - val_acc: 0.8538\n",
            "\n",
            "Epoch 00017: val_acc improved from 0.80320 to 0.85380, saving model to /content/saved_models_Ass4/cifar10_model_Ass_4B.hdf5\n",
            "Epoch 18/50\n",
            "Learning rate:  0.0001\n",
            "391/391 [==============================] - 31s 80ms/step - loss: 0.5435 - acc: 0.8878 - val_loss: 0.6396 - val_acc: 0.8547\n",
            "\n",
            "Epoch 00018: val_acc improved from 0.85380 to 0.85470, saving model to /content/saved_models_Ass4/cifar10_model_Ass_4B.hdf5\n",
            "Epoch 19/50\n",
            "Learning rate:  0.0001\n",
            "391/391 [==============================] - 31s 79ms/step - loss: 0.5308 - acc: 0.8908 - val_loss: 0.6364 - val_acc: 0.8567\n",
            "\n",
            "Epoch 00019: val_acc improved from 0.85470 to 0.85670, saving model to /content/saved_models_Ass4/cifar10_model_Ass_4B.hdf5\n",
            "Epoch 20/50\n",
            "Learning rate:  0.0001\n",
            "391/391 [==============================] - 31s 78ms/step - loss: 0.5203 - acc: 0.8936 - val_loss: 0.6221 - val_acc: 0.8614\n",
            "\n",
            "Epoch 00020: val_acc improved from 0.85670 to 0.86140, saving model to /content/saved_models_Ass4/cifar10_model_Ass_4B.hdf5\n",
            "Epoch 21/50\n",
            "Learning rate:  0.0001\n",
            "391/391 [==============================] - 32s 81ms/step - loss: 0.5063 - acc: 0.8976 - val_loss: 0.6193 - val_acc: 0.8595\n",
            "\n",
            "Epoch 00021: val_acc did not improve from 0.86140\n",
            "Epoch 22/50\n",
            "Learning rate:  0.0001\n",
            "391/391 [==============================] - 32s 83ms/step - loss: 0.5002 - acc: 0.8989 - val_loss: 0.6079 - val_acc: 0.8645\n",
            "\n",
            "Epoch 00022: val_acc improved from 0.86140 to 0.86450, saving model to /content/saved_models_Ass4/cifar10_model_Ass_4B.hdf5\n",
            "Epoch 23/50\n",
            "Learning rate:  0.0001\n",
            "391/391 [==============================] - 31s 80ms/step - loss: 0.4898 - acc: 0.9016 - val_loss: 0.6395 - val_acc: 0.8557\n",
            "\n",
            "Epoch 00023: val_acc did not improve from 0.86450\n",
            "Epoch 24/50\n",
            "Learning rate:  0.0001\n",
            "391/391 [==============================] - 32s 81ms/step - loss: 0.4854 - acc: 0.9024 - val_loss: 0.5985 - val_acc: 0.8668\n",
            "\n",
            "Epoch 00024: val_acc improved from 0.86450 to 0.86680, saving model to /content/saved_models_Ass4/cifar10_model_Ass_4B.hdf5\n",
            "Epoch 25/50\n",
            "Learning rate:  0.0001\n",
            "391/391 [==============================] - 32s 82ms/step - loss: 0.4784 - acc: 0.9054 - val_loss: 0.5892 - val_acc: 0.8704\n",
            "\n",
            "Epoch 00025: val_acc improved from 0.86680 to 0.87040, saving model to /content/saved_models_Ass4/cifar10_model_Ass_4B.hdf5\n",
            "Epoch 26/50\n",
            "Learning rate:  0.0001\n",
            "391/391 [==============================] - 32s 82ms/step - loss: 0.4694 - acc: 0.9073 - val_loss: 0.6190 - val_acc: 0.8637\n",
            "\n",
            "Epoch 00026: val_acc did not improve from 0.87040\n",
            "Epoch 27/50\n",
            "Learning rate:  1e-05\n",
            "391/391 [==============================] - 31s 81ms/step - loss: 0.4530 - acc: 0.9134 - val_loss: 0.5908 - val_acc: 0.8720\n",
            "\n",
            "Epoch 00027: val_acc improved from 0.87040 to 0.87200, saving model to /content/saved_models_Ass4/cifar10_model_Ass_4B.hdf5\n",
            "Epoch 28/50\n",
            "Learning rate:  1e-05\n",
            "391/391 [==============================] - 32s 81ms/step - loss: 0.4535 - acc: 0.9120 - val_loss: 0.5894 - val_acc: 0.8702\n",
            "\n",
            "Epoch 00028: val_acc did not improve from 0.87200\n",
            "Epoch 29/50\n",
            "Learning rate:  1e-05\n",
            "391/391 [==============================] - 32s 81ms/step - loss: 0.4516 - acc: 0.9128 - val_loss: 0.5888 - val_acc: 0.8716\n",
            "\n",
            "Epoch 00029: val_acc did not improve from 0.87200\n",
            "Epoch 30/50\n",
            "Learning rate:  1e-05\n",
            "391/391 [==============================] - 32s 82ms/step - loss: 0.4484 - acc: 0.9137 - val_loss: 0.5895 - val_acc: 0.8713\n",
            "\n",
            "Epoch 00030: val_acc did not improve from 0.87200\n",
            "Epoch 31/50\n",
            "Learning rate:  1e-05\n",
            "391/391 [==============================] - 32s 82ms/step - loss: 0.4486 - acc: 0.9126 - val_loss: 0.5885 - val_acc: 0.8705\n",
            "\n",
            "Epoch 00031: val_acc did not improve from 0.87200\n",
            "Epoch 32/50\n",
            "Learning rate:  1e-05\n",
            "391/391 [==============================] - 32s 82ms/step - loss: 0.4456 - acc: 0.9137 - val_loss: 0.5850 - val_acc: 0.8714\n",
            "\n",
            "Epoch 00032: val_acc did not improve from 0.87200\n",
            "Epoch 33/50\n",
            "Learning rate:  1e-05\n",
            "391/391 [==============================] - 31s 80ms/step - loss: 0.4481 - acc: 0.9154 - val_loss: 0.5882 - val_acc: 0.8726\n",
            "\n",
            "Epoch 00033: val_acc improved from 0.87200 to 0.87260, saving model to /content/saved_models_Ass4/cifar10_model_Ass_4B.hdf5\n",
            "Epoch 34/50\n",
            "Learning rate:  1e-05\n",
            "391/391 [==============================] - 31s 80ms/step - loss: 0.4445 - acc: 0.9156 - val_loss: 0.5864 - val_acc: 0.8729\n",
            "\n",
            "Epoch 00034: val_acc improved from 0.87260 to 0.87290, saving model to /content/saved_models_Ass4/cifar10_model_Ass_4B.hdf5\n",
            "Epoch 35/50\n",
            "Learning rate:  1e-05\n",
            "391/391 [==============================] - 32s 83ms/step - loss: 0.4480 - acc: 0.9152 - val_loss: 0.5858 - val_acc: 0.8724\n",
            "\n",
            "Epoch 00035: val_acc did not improve from 0.87290\n",
            "Epoch 36/50\n",
            "Learning rate:  1e-05\n",
            "391/391 [==============================] - 32s 82ms/step - loss: 0.4444 - acc: 0.9161 - val_loss: 0.5844 - val_acc: 0.8742\n",
            "\n",
            "Epoch 00036: val_acc improved from 0.87290 to 0.87420, saving model to /content/saved_models_Ass4/cifar10_model_Ass_4B.hdf5\n",
            "Epoch 37/50\n",
            "Learning rate:  1e-06\n",
            "391/391 [==============================] - 32s 81ms/step - loss: 0.4416 - acc: 0.9154 - val_loss: 0.5846 - val_acc: 0.8741\n",
            "\n",
            "Epoch 00037: val_acc did not improve from 0.87420\n",
            "Epoch 38/50\n",
            "Learning rate:  1e-06\n",
            "391/391 [==============================] - 32s 81ms/step - loss: 0.4408 - acc: 0.9157 - val_loss: 0.5852 - val_acc: 0.8733\n",
            "\n",
            "Epoch 00038: val_acc did not improve from 0.87420\n",
            "Epoch 39/50\n",
            "Learning rate:  1e-06\n",
            "391/391 [==============================] - 31s 79ms/step - loss: 0.4430 - acc: 0.9160 - val_loss: 0.5852 - val_acc: 0.8737\n",
            "\n",
            "Epoch 00039: val_acc did not improve from 0.87420\n",
            "Epoch 40/50\n",
            "Learning rate:  1e-06\n",
            "391/391 [==============================] - 31s 79ms/step - loss: 0.4428 - acc: 0.9153 - val_loss: 0.5849 - val_acc: 0.8737\n",
            "\n",
            "Epoch 00040: val_acc did not improve from 0.87420\n",
            "Epoch 41/50\n",
            "Learning rate:  1e-06\n",
            "391/391 [==============================] - 31s 78ms/step - loss: 0.4424 - acc: 0.9159 - val_loss: 0.5859 - val_acc: 0.8733\n",
            "\n",
            "Epoch 00041: val_acc did not improve from 0.87420\n",
            "Epoch 42/50\n",
            "Learning rate:  1e-06\n",
            "391/391 [==============================] - 30s 78ms/step - loss: 0.4417 - acc: 0.9162 - val_loss: 0.5854 - val_acc: 0.8731\n",
            "\n",
            "Epoch 00042: val_acc did not improve from 0.87420\n",
            "Epoch 43/50\n",
            "Learning rate:  1e-06\n",
            "391/391 [==============================] - 30s 77ms/step - loss: 0.4415 - acc: 0.9171 - val_loss: 0.5847 - val_acc: 0.8734\n",
            "\n",
            "Epoch 00043: val_acc did not improve from 0.87420\n",
            "Epoch 44/50\n",
            "Learning rate:  1e-06\n",
            "391/391 [==============================] - 30s 76ms/step - loss: 0.4431 - acc: 0.9157 - val_loss: 0.5843 - val_acc: 0.8734\n",
            "\n",
            "Epoch 00044: val_acc did not improve from 0.87420\n",
            "Epoch 45/50\n",
            "Learning rate:  1e-06\n",
            "391/391 [==============================] - 30s 76ms/step - loss: 0.4408 - acc: 0.9174 - val_loss: 0.5844 - val_acc: 0.8735\n",
            "\n",
            "Epoch 00045: val_acc did not improve from 0.87420\n",
            "Epoch 46/50\n",
            "Learning rate:  1e-06\n",
            "391/391 [==============================] - 30s 76ms/step - loss: 0.4378 - acc: 0.9173 - val_loss: 0.5837 - val_acc: 0.8736\n",
            "\n",
            "Epoch 00046: val_acc did not improve from 0.87420\n",
            "Epoch 47/50\n",
            "Learning rate:  5e-07\n",
            "391/391 [==============================] - 29s 75ms/step - loss: 0.4439 - acc: 0.9148 - val_loss: 0.5847 - val_acc: 0.8734\n",
            "\n",
            "Epoch 00047: val_acc did not improve from 0.87420\n",
            "Epoch 48/50\n",
            "Learning rate:  5e-07\n",
            "391/391 [==============================] - 29s 75ms/step - loss: 0.4417 - acc: 0.9153 - val_loss: 0.5844 - val_acc: 0.8732\n",
            "\n",
            "Epoch 00048: val_acc did not improve from 0.87420\n",
            "Epoch 49/50\n",
            "Learning rate:  5e-07\n",
            "391/391 [==============================] - 29s 75ms/step - loss: 0.4368 - acc: 0.9188 - val_loss: 0.5836 - val_acc: 0.8743\n",
            "\n",
            "Epoch 00049: val_acc improved from 0.87420 to 0.87430, saving model to /content/saved_models_Ass4/cifar10_model_Ass_4B.hdf5\n",
            "Epoch 50/50\n",
            "Learning rate:  5e-07\n",
            "391/391 [==============================] - 30s 76ms/step - loss: 0.4406 - acc: 0.9164 - val_loss: 0.5844 - val_acc: 0.8736\n",
            "\n",
            "Epoch 00050: val_acc did not improve from 0.87430\n"
          ],
          "name": "stdout"
        }
      ]
    },
    {
      "cell_type": "code",
      "metadata": {
        "id": "3K0w06IoKopo",
        "colab_type": "code",
        "colab": {
          "base_uri": "https://localhost:8080/",
          "height": 69
        },
        "outputId": "726322fa-5efd-4a2f-f9d4-43d5b9aad397"
      },
      "source": [
        "# Score trained model.\n",
        "scores = model.evaluate(x_test, y_test, verbose=1)\n",
        "print('Test loss:', scores[0])\n",
        "print('Test accuracy:', scores[1])"
      ],
      "execution_count": 16,
      "outputs": [
        {
          "output_type": "stream",
          "text": [
            "10000/10000 [==============================] - 2s 222us/step\n",
            "Test loss: 0.5843568601608277\n",
            "Test accuracy: 0.8736\n"
          ],
          "name": "stdout"
        }
      ]
    },
    {
      "cell_type": "code",
      "metadata": {
        "id": "8j3mI-ol1GaK",
        "colab_type": "code",
        "colab": {
          "base_uri": "https://localhost:8080/",
          "height": 155
        },
        "outputId": "1e45b15e-a283-4e3b-f8a3-8cd519a7a9c2"
      },
      "source": [
        "!pip install -U -q PyDrive\n",
        "!pip install h5py pyyaml\n",
        "!git clone https://gist.github.com/dc7e60aa487430ea704a8cb3f2c5d6a6.git /tmp/colab_util_repo\n",
        "!mv /tmp/colab_util_repo/colab_util.py colab_util.py \n",
        "!rm -r /tmp/colab_util_repo\n",
        "from colab_util import *\n",
        "drive_handler = GoogleDriveHandler()"
      ],
      "execution_count": 18,
      "outputs": [
        {
          "output_type": "stream",
          "text": [
            "Requirement already satisfied: h5py in /usr/local/lib/python3.6/dist-packages (2.8.0)\n",
            "Requirement already satisfied: pyyaml in /usr/local/lib/python3.6/dist-packages (3.13)\n",
            "Requirement already satisfied: numpy>=1.7 in /usr/local/lib/python3.6/dist-packages (from h5py) (1.17.4)\n",
            "Requirement already satisfied: six in /usr/local/lib/python3.6/dist-packages (from h5py) (1.12.0)\n",
            "Cloning into '/tmp/colab_util_repo'...\n",
            "remote: Enumerating objects: 40, done.\u001b[K\n",
            "remote: Total 40 (delta 0), reused 0 (delta 0), pack-reused 40\n",
            "Unpacking objects: 100% (40/40), done.\n"
          ],
          "name": "stdout"
        }
      ]
    },
    {
      "cell_type": "code",
      "metadata": {
        "id": "G5OMJdFQ1NCT",
        "colab_type": "code",
        "colab": {
          "base_uri": "https://localhost:8080/",
          "height": 34
        },
        "outputId": "fcf1fd0f-4162-4f81-8fcf-f795b97d0412"
      },
      "source": [
        "drive_handler.upload('../content/saved_models_Ass4/cifar10_model_Ass_4B.hdf5', parent_path='/SOAI/EIP4/Session4')"
      ],
      "execution_count": 19,
      "outputs": [
        {
          "output_type": "execute_result",
          "data": {
            "text/plain": [
              "'13sMZsEu9_KOmC6D3xO48W5B28JnbAJra'"
            ]
          },
          "metadata": {
            "tags": []
          },
          "execution_count": 19
        }
      ]
    },
    {
      "cell_type": "code",
      "metadata": {
        "id": "o5umOt1v2ce1",
        "colab_type": "code",
        "colab": {}
      },
      "source": [
        "drive_handler.download('cifar10_model_Ass_4B.hdf5', target_path='/SOAI/EIP4/Session4/cifar10_model_Ass_4B.hdf5')"
      ],
      "execution_count": 0,
      "outputs": []
    },
    {
      "cell_type": "code",
      "metadata": {
        "id": "-jfb1UR12miy",
        "colab_type": "code",
        "colab": {
          "base_uri": "https://localhost:8080/",
          "height": 34
        },
        "outputId": "a4c1b181-5115-4d4a-9830-79f8ad692bae"
      },
      "source": [
        "from keras.models import load_model\n",
        "#content/drive/My Drive/SOAI/EIP4/Session4/cifar10_model_Ass_4B.hdf5\n",
        "model = load_model('/content/drive/My Drive//SOAI/EIP4/Session4/cifar10_model_Ass_4B.hdf5')\n",
        "score = model.evaluate(x_test, y_test, verbose=0)\n",
        "y_pred = model.predict(x_test)\n",
        "print(score)"
      ],
      "execution_count": 22,
      "outputs": [
        {
          "output_type": "stream",
          "text": [
            "[0.5836103351593017, 0.8743]\n"
          ],
          "name": "stdout"
        }
      ]
    },
    {
      "cell_type": "code",
      "metadata": {
        "id": "mf1k2HY05X6g",
        "colab_type": "code",
        "colab": {}
      },
      "source": [
        "# getting index of all misclasified images\n",
        "img_index = []\n",
        "for i in range(1,y_test.shape[0]):\n",
        "  if np.argmax(y_pred[i])!=np.argmax(y_test[i]):\n",
        "    img_index.append(i)\n",
        "\n",
        "def image_reconstract(x):\n",
        "    # normalize tensor: center on 0., ensure std is 0.1\n",
        "    x -= x.mean()\n",
        "    x /= (x.std() + 1e-5)\n",
        "    x *= 0.1\n",
        "\n",
        "    # clip to [0, 1]\n",
        "    x += 0.5\n",
        "    x = np.clip(x, 0, 1)\n",
        "\n",
        "    # convert to RGB array\n",
        "    x *= 255\n",
        "    #x = x.transpose((1, 2, 0))\n",
        "    x = np.clip(x, 0, 255).astype('uint8')\n",
        "    return x"
      ],
      "execution_count": 0,
      "outputs": []
    },
    {
      "cell_type": "code",
      "metadata": {
        "id": "NZZFqOgg6FZj",
        "colab_type": "code",
        "colab": {}
      },
      "source": [
        "import cv2 \n",
        "def applygradCAM(image):\n",
        "  # expanding dimension for prediction\n",
        "  x = np.expand_dims(image, axis=0)\n",
        "  \n",
        "  # prediction of the image\n",
        "  preds = model.predict(x)\n",
        "  class_idx = np.argmax(preds[0])\n",
        "  class_output = model.output[:, class_idx]\n",
        "  \n",
        "  # Getting the output of the last convolutional layer \n",
        "  last_conv_layer = model.get_layer(\"conv2d_22\")\n",
        "  \n",
        "  # Claculating the gradients\n",
        "  grads = K.gradients(class_output, last_conv_layer.output)[0]\n",
        "  pooled_grads = K.mean(grads, axis=(0, 1, 2))\n",
        "  iterate = K.function([model.input], [pooled_grads, last_conv_layer.output[0]])\n",
        "  pooled_grads_value, conv_layer_output_value = iterate([x])\n",
        "  for i in range(128):\n",
        "    conv_layer_output_value[:, :, i] *= pooled_grads_value[i]\n",
        "  \n",
        "  # Creating the heatmap\n",
        "  heatmap = np.mean(conv_layer_output_value, axis=-1)\n",
        "  heatmap = np.maximum(heatmap, 0)\n",
        "  heatmap /= np.max(heatmap) \n",
        "  \n",
        "  # Resize heatmap to original image size\n",
        "  heatmap = cv2.resize(heatmap, (x.shape[1], x.shape[2]))\n",
        "  heatmap = np.uint8(255 * heatmap)\n",
        "  heatmap = cv2.applyColorMap(heatmap, cv2.COLORMAP_JET)\n",
        "  \n",
        "  # Creating the superimposed Image\n",
        "  superimposed_img = cv2.addWeighted(image_reconstract(image), 0.6, heatmap, 0.4, 0)\n",
        "  return superimposed_img"
      ],
      "execution_count": 0,
      "outputs": []
    },
    {
      "cell_type": "code",
      "metadata": {
        "id": "-oVkTEQS6j4v",
        "colab_type": "code",
        "colab": {
          "base_uri": "https://localhost:8080/",
          "height": 34
        },
        "outputId": "86de6625-6871-4b93-bcd1-78ee0c23ce39"
      },
      "source": [
        "import matplotlib.pyplot as plt\n",
        "class_names = ['airplane','automobile','bird','cat','deer','dog','frog','horse','ship','truck']\n",
        "fig = plt.figure(figsize=(12,4))\n",
        "\n",
        "img_gradCam = [] \n",
        "img_actual_value = []\n",
        "img_pred_value = []\n",
        "for i in range(1,11):\n",
        "    img_req_grad = applygradCAM(x_test[img_index[i-1]]).astype(np.float64)\n",
        "    img_req_grad = image_reconstract(img_req_grad)\n",
        "    img_gradCam.append(img_req_grad)\n",
        "    img_actual_value.append(class_names[np.argmax(y_test[img_index[i-1]])])\n",
        "    img_pred_value.append(class_names[np.argmax(y_pred[img_index[i-1]])])"
      ],
      "execution_count": 30,
      "outputs": [
        {
          "output_type": "display_data",
          "data": {
            "text/plain": [
              "<Figure size 864x288 with 0 Axes>"
            ]
          },
          "metadata": {
            "tags": []
          }
        }
      ]
    },
    {
      "cell_type": "code",
      "metadata": {
        "id": "m-Ke8t2i7Amm",
        "colab_type": "code",
        "colab": {
          "base_uri": "https://localhost:8080/",
          "height": 594
        },
        "outputId": "09af873f-7796-418a-eacc-2f63ace0f329"
      },
      "source": [
        "# Plotting all 10 images    \n",
        "row = 5\n",
        "col = 2\n",
        "fig=plt.figure(figsize=(10, 10))\n",
        "for i in range(0,row*col):\n",
        "  fig.add_subplot(row,col,i+1)\n",
        "  plt.imshow(img_gradCam[i]) \n",
        "  plt.title('Actual: '+str(img_actual_value[i])+' & Predicted: '+str(img_pred_value[i]))\n",
        "  plt.xticks([])\n",
        "  plt.yticks([])\n",
        "plt.show()"
      ],
      "execution_count": 31,
      "outputs": [
        {
          "output_type": "display_data",
          "data": {
            "image/png": "[encoded data removed]",
            "text/plain": [
              "<Figure size 720x720 with 10 Axes>"
            ]
          },
          "metadata": {
            "tags": []
          }
        }
      ]
    },
    {
      "cell_type": "code",
      "metadata": {
        "id": "yD_sOqIoKtGy",
        "colab_type": "code",
        "colab": {}
      },
      "source": [
        "# Storing 12 misclassified images into a variable after converting them  into 0-255 scale. Also, storing actual and predicted output values for those images\n",
        "class_names = ['airplane','automobile','bird','cat','deer','dog','frog','horse','ship','truck']\n",
        "img_actual = [] \n",
        "img_actual_value = []\n",
        "img_pred_value = []\n",
        "for i in range(1,13):\n",
        "    img_req = np.array(x_test[img_index[i-1]]).astype(np.float64)\n",
        "    img_req = image_reconstract(img_req)\n",
        "    img_actual.append(img_req)\n",
        "    img_actual_value.append(class_names[np.argmax(y_test[img_index[i-1]])])\n",
        "    img_pred_value.append(class_names[np.argmax(y_pred[img_index[i-1]])])"
      ],
      "execution_count": 0,
      "outputs": []
    },
    {
      "cell_type": "code",
      "metadata": {
        "id": "Wks7ZGhtKzgZ",
        "colab_type": "code",
        "colab": {
          "base_uri": "https://localhost:8080/",
          "height": 594
        },
        "outputId": "839cea72-dd4a-4c89-b83d-d0919777a8c3"
      },
      "source": [
        "# Plotting all 12 images    \n",
        "row = 4\n",
        "col = 3\n",
        "fig=plt.figure(figsize=(10, 10))\n",
        "for i in range(0,row*col):\n",
        "  fig.add_subplot(row,col,i+1)\n",
        "  plt.imshow(img_actual[i]) \n",
        "  plt.title('Actual:'+str(img_actual_value[i])+'& Predicted:'+str(img_pred_value[i]))\n",
        "  plt.xticks([])\n",
        "  plt.yticks([])\n",
        "plt.show()"
      ],
      "execution_count": 33,
      "outputs": [
        {
          "output_type": "display_data",
          "data": {
            "image/png": "[encoded data removed]",
            "text/plain": [
              "<Figure size 720x720 with 12 Axes>"
            ]
          },
          "metadata": {
            "tags": []
          }
        }
      ]
    }
  ]
}